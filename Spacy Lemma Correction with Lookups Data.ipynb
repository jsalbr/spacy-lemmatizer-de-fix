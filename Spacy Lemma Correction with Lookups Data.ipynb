{
 "cells": [
  {
   "cell_type": "markdown",
   "metadata": {},
   "source": [
    "# Modify Spacy Lemmas\n",
    "\n",
    "  * spaCy used as simple dictionary lookup to find lemmas of a word.\n",
    "  * spaCy's lemmas are stored in a binary file as part of the model since version 2.2\n",
    "  * The optional package `spacy-lookups-data` can be installed to get a dictionary with the lemmas that can be modified\n",
    "  * The lemma lookup tables of a model can be replaced by custom lemmas.\n",
    "  \n",
    "See also: https://github.com/explosion/spaCy/issues/2668\n",
    "  \n",
    "So if you want to modify the lemmas you need to follow these steps:\n",
    "\n",
    "**1: Install spacy-lookups-data**\n",
    "\n",
    "```\n",
    "    conda install spacy-lookups-data\n",
    "```\n",
    "\n",
    "**2: Edit the lemma dictionary**\n",
    "\n",
    "Find the location of the lemma file, e.g. for 'de':"
   ]
  },
  {
   "cell_type": "code",
   "execution_count": 1,
   "metadata": {
    "ExecuteTime": {
     "end_time": "2020-02-16T11:41:30.814266Z",
     "start_time": "2020-02-16T11:41:30.275636Z"
    }
   },
   "outputs": [
    {
     "name": "stdout",
     "output_type": "stream",
     "text": [
      "Lemma file: C:\\Users\\Jens\\Anaconda3\\lib\\site-packages\\spacy_lookups_data\\data\\de_lemma_lookup.json\n"
     ]
    }
   ],
   "source": [
    "import spacy_lookups_data\n",
    "\n",
    "fname = spacy_lookups_data.de['lemma_lookup']\n",
    "print(f\"Lemma file: {fname}\")"
   ]
  },
  {
   "cell_type": "markdown",
   "metadata": {},
   "source": [
    "  * Go to the directory.\n",
    "  * Unzip the file you want to change. (All files are zipped by gzip.)\n",
    "  * Open it and edit the lemmas you want to change (or do it on the fly as shown below)\n",
    "  \n",
    "**3: Load the nlp object with your custom lemmas**"
   ]
  },
  {
   "cell_type": "code",
   "execution_count": 5,
   "metadata": {
    "ExecuteTime": {
     "end_time": "2020-02-16T11:50:05.466847Z",
     "start_time": "2020-02-16T11:50:01.737590Z"
    }
   },
   "outputs": [],
   "source": [
    "import spacy\n",
    "import spacy_lookups_data\n",
    "import json\n",
    "\n",
    "fname = spacy_lookups_data.de['lemma_lookup']\n",
    "\n",
    "with open(fname, 'r') as file:\n",
    "    lemma_lookup = json.load(file)\n",
    "\n",
    "# optional: correct lemmas on the fly\n",
    "lemma_lookup['Sonne'] = 'Sonne'\n",
    "    \n",
    "nlp = spacy.load('de')\n",
    "\n",
    "# must be executed before first call to nlp\n",
    "_ = nlp.vocab.lookups.remove_table('lemma_lookup')\n",
    "_ = nlp.vocab.lookups.add_table('lemma_lookup', lemma_lookup)"
   ]
  },
  {
   "cell_type": "markdown",
   "metadata": {},
   "source": [
    "**4. Test the changes**"
   ]
  },
  {
   "cell_type": "code",
   "execution_count": 7,
   "metadata": {
    "ExecuteTime": {
     "end_time": "2020-02-16T11:51:59.072935Z",
     "start_time": "2020-02-16T11:51:59.032930Z"
    },
    "scrolled": false
   },
   "outputs": [
    {
     "name": "stdout",
     "output_type": "stream",
     "text": [
      "Ich sonne sich in der Sonne .\n",
      "Dieser Gärtner wohnen im Haus .\n",
      "der sein einen abendfüllend Programm .\n"
     ]
    }
   ],
   "source": [
    "texts = [\"Ich sonne mich in der Sonne.\", \n",
    "         \"Dieser Gärtner wohnt im Haus.\",\n",
    "         \"Das war ein abendfüllendes Programm.\"\n",
    "        ]\n",
    "\n",
    "for text in texts:\n",
    "    doc = nlp(text)\n",
    "    print(\" \".join([t.lemma_ for t in doc]))"
   ]
  }
 ],
 "metadata": {
  "kernelspec": {
   "display_name": "Python 3",
   "language": "python",
   "name": "python3"
  },
  "language_info": {
   "codemirror_mode": {
    "name": "ipython",
    "version": 3
   },
   "file_extension": ".py",
   "mimetype": "text/x-python",
   "name": "python",
   "nbconvert_exporter": "python",
   "pygments_lexer": "ipython3",
   "version": "3.7.5"
  },
  "toc": {
   "base_numbering": 1,
   "nav_menu": {},
   "number_sections": true,
   "sideBar": true,
   "skip_h1_title": false,
   "title_cell": "Table of Contents",
   "title_sidebar": "Contents",
   "toc_cell": false,
   "toc_position": {},
   "toc_section_display": true,
   "toc_window_display": false
  }
 },
 "nbformat": 4,
 "nbformat_minor": 2
}
