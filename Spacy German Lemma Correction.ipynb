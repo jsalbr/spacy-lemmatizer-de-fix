{
 "cells": [
  {
   "cell_type": "markdown",
   "metadata": {},
   "source": [
    "# Nouns from Wiktionary\n",
    "\n",
    "https://github.com/gambolputty/german-nouns"
   ]
  },
  {
   "cell_type": "code",
   "execution_count": null,
   "metadata": {
    "ExecuteTime": {
     "end_time": "2019-10-20T18:36:53.674772Z",
     "start_time": "2019-10-20T18:36:51.816276Z"
    }
   },
   "outputs": [],
   "source": [
    "import pandas as pd\n",
    "\n",
    "pd.set_option('display.max_columns', 500)\n",
    "pd.set_option('display.max_rows', 5000)\n"
   ]
  },
  {
   "cell_type": "code",
   "execution_count": null,
   "metadata": {
    "ExecuteTime": {
     "end_time": "2019-10-20T18:36:55.230494Z",
     "start_time": "2019-10-20T18:36:53.683755Z"
    }
   },
   "outputs": [],
   "source": [
    "df = pd.read_csv('nouns.csv', low_memory=False)\n",
    "df.sample(10)"
   ]
  },
  {
   "cell_type": "code",
   "execution_count": null,
   "metadata": {
    "ExecuteTime": {
     "end_time": "2019-10-20T18:36:55.246496Z",
     "start_time": "2019-10-20T18:36:55.235496Z"
    }
   },
   "outputs": [],
   "source": [
    "df['nominativ plural']"
   ]
  },
  {
   "cell_type": "code",
   "execution_count": null,
   "metadata": {
    "ExecuteTime": {
     "end_time": "2019-10-20T18:36:55.344499Z",
     "start_time": "2019-10-20T18:36:55.251496Z"
    }
   },
   "outputs": [],
   "source": [
    "df[df['lemma'] == 'Verkauf']"
   ]
  },
  {
   "cell_type": "code",
   "execution_count": null,
   "metadata": {
    "ExecuteTime": {
     "end_time": "2019-10-20T18:36:55.355499Z",
     "start_time": "2019-10-20T18:36:55.348498Z"
    }
   },
   "outputs": [],
   "source": [
    "# for i, col in enumerate(df.columns):\n",
    "#    print(i, col)\n",
    "    \n",
    "cols = df.columns[16:]\n",
    "cols"
   ]
  },
  {
   "cell_type": "code",
   "execution_count": null,
   "metadata": {
    "ExecuteTime": {
     "end_time": "2019-10-20T18:36:55.978029Z",
     "start_time": "2019-10-20T18:36:55.358498Z"
    }
   },
   "outputs": [],
   "source": [
    "df[cols] = df[cols].fillna('')\n",
    "df = df[df['pos'] == 'Substantiv']"
   ]
  },
  {
   "cell_type": "code",
   "execution_count": null,
   "metadata": {
    "ExecuteTime": {
     "end_time": "2019-10-20T18:37:42.066144Z",
     "start_time": "2019-10-20T18:36:55.978029Z"
    }
   },
   "outputs": [],
   "source": [
    "import re\n",
    "\n",
    "nouns = {}\n",
    "\n",
    "for i, row in df.iterrows():\n",
    "    lemma = row['lemma']\n",
    "    \n",
    "    # skip non-nouns, tokens with specials and acronyms\n",
    "    if re.search(r'[,\\-\\s\\.0-9]', lemma)!=None or re.search(r'[A-Z]', lemma[1:])!=None:\n",
    "        continue\n",
    "        \n",
    "    nouns[lemma] = lemma\n",
    "\n",
    "    # add flex forms\n",
    "    for col in cols:\n",
    "        flex = row[col]\n",
    "\n",
    "        if flex != None and len(flex) > 1 and \\\n",
    "           re.search(r'[,\\-\\s\\.0-9]', flex)==None and re.search(r'[A-Z]', flex[1:])==None:\n",
    "            nouns[flex] = lemma\n",
    "            \n",
    "nouns"
   ]
  },
  {
   "cell_type": "code",
   "execution_count": null,
   "metadata": {
    "ExecuteTime": {
     "end_time": "2019-10-20T18:37:42.078126Z",
     "start_time": "2019-10-20T18:37:42.071120Z"
    }
   },
   "outputs": [],
   "source": [
    "nouns['Haus']"
   ]
  },
  {
   "cell_type": "code",
   "execution_count": null,
   "metadata": {
    "ExecuteTime": {
     "end_time": "2019-10-20T18:37:42.092117Z",
     "start_time": "2019-10-20T18:37:42.082120Z"
    }
   },
   "outputs": [],
   "source": [
    "# df = orig_df.copy()"
   ]
  },
  {
   "cell_type": "code",
   "execution_count": null,
   "metadata": {
    "ExecuteTime": {
     "end_time": "2019-10-20T18:37:42.177117Z",
     "start_time": "2019-10-20T18:37:42.095123Z"
    }
   },
   "outputs": [],
   "source": [
    "df[df.lemma == 'All']"
   ]
  },
  {
   "cell_type": "code",
   "execution_count": null,
   "metadata": {
    "ExecuteTime": {
     "end_time": "2019-10-20T18:37:42.194117Z",
     "start_time": "2019-10-20T18:37:42.179124Z"
    }
   },
   "outputs": [],
   "source": [
    "df.pos.value_counts()"
   ]
  },
  {
   "cell_type": "code",
   "execution_count": null,
   "metadata": {},
   "outputs": [],
   "source": []
  },
  {
   "cell_type": "markdown",
   "metadata": {
    "ExecuteTime": {
     "end_time": "2019-10-19T09:34:18.116101Z",
     "start_time": "2019-10-19T09:34:18.112103Z"
    }
   },
   "source": [
    "# Correction of spaCy's German Lemmas"
   ]
  },
  {
   "cell_type": "code",
   "execution_count": null,
   "metadata": {
    "ExecuteTime": {
     "end_time": "2019-10-20T18:38:59.907030Z",
     "start_time": "2019-10-20T18:38:57.486271Z"
    }
   },
   "outputs": [],
   "source": [
    "from spacy.lang.de.lemmatizer import LOOKUP\n",
    "import sys"
   ]
  },
  {
   "cell_type": "code",
   "execution_count": null,
   "metadata": {
    "ExecuteTime": {
     "end_time": "2019-10-20T18:44:18.587956Z",
     "start_time": "2019-10-20T18:44:17.848966Z"
    }
   },
   "outputs": [],
   "source": [
    "# file = sys.stdout\n",
    "file = open(\"lemmatizer_de.py\", \"w\", encoding='utf-8')\n",
    "# file = open(\"lemmatizer_de_changes.py\", \"w\", encoding='utf-8')\n",
    "\n",
    "file.write(\"\"\"# coding: utf8\n",
    "from __future__ import unicode_literals\n",
    "\n",
    "LOOKUP_DELTA = {\\n\"\"\")\n",
    "\n",
    "for word, lemma in LOOKUP.items():\n",
    "    try:\n",
    "        if word[0].isupper() and lemma.islower() and word.lower() not in LOOKUP and word in nouns:\n",
    "            new_lemma = nouns[word]\n",
    "            file.write(f'    \"{word}\": \"{new_lemma}\",\\n')\n",
    "            # file.write(f'    \"{word}\": \"{new_lemma}\", # previous \"{lemma}\"\\n')\n",
    "            # print(f'    \"{word}\": \"{new_lemma}\" # previous \"{lemma}\"')\n",
    "        else:\n",
    "            # pass\n",
    "            file.write(f'    \"{word}\": \"{lemma}\",\\n')\n",
    "        \n",
    "    except Exception as e:\n",
    "        print(e)\n",
    "        print(f'    \"{word}\": \"{lemma}\"')\n",
    "        break\n",
    "            \n",
    "file.write(\"}\\n\")\n",
    "file.close()"
   ]
  },
  {
   "cell_type": "code",
   "execution_count": null,
   "metadata": {
    "ExecuteTime": {
     "end_time": "2019-10-19T09:17:01.624739Z",
     "start_time": "2019-10-19T09:17:01.613763Z"
    }
   },
   "outputs": [],
   "source": [
    "word = \"Banden\"\n",
    "word[-2:]"
   ]
  },
  {
   "cell_type": "code",
   "execution_count": null,
   "metadata": {
    "ExecuteTime": {
     "end_time": "2019-10-19T09:22:13.101266Z",
     "start_time": "2019-10-19T09:22:13.094239Z"
    }
   },
   "outputs": [],
   "source": [
    "\"Banden\"[:-1] in LOOKUP"
   ]
  },
  {
   "cell_type": "code",
   "execution_count": null,
   "metadata": {
    "ExecuteTime": {
     "end_time": "2019-10-19T09:21:48.353093Z",
     "start_time": "2019-10-19T09:21:48.347092Z"
    }
   },
   "outputs": [],
   "source": [
    "\"Bande\" in LOOKUP"
   ]
  },
  {
   "cell_type": "markdown",
   "metadata": {},
   "source": [
    "# Test"
   ]
  },
  {
   "cell_type": "code",
   "execution_count": null,
   "metadata": {
    "ExecuteTime": {
     "end_time": "2019-10-20T18:39:02.151608Z",
     "start_time": "2019-10-20T18:39:01.781390Z"
    }
   },
   "outputs": [],
   "source": [
    "import spacy\n",
    "\n",
    "nlp = spacy.load('de')"
   ]
  },
  {
   "cell_type": "code",
   "execution_count": null,
   "metadata": {
    "ExecuteTime": {
     "end_time": "2019-10-19T10:37:28.776233Z",
     "start_time": "2019-10-19T10:37:28.752234Z"
    },
    "slideshow": {
     "slide_type": "slide"
    }
   },
   "outputs": [],
   "source": [
    "from IPython.core.display import display, HTML\n",
    "from tabulate import tabulate\n",
    "\n",
    "def print_nlp(doc, include_punct=False):\n",
    "    \"\"\"Print tokens with attributes for spaCy doc.\"\"\"\n",
    "    rows = []\n",
    "    for token in doc:\n",
    "        if not token.is_punct or include_punct:\n",
    "            row = (token.text, token.lemma_, \n",
    "                   token.pos_, token.tag_, token.dep_,\n",
    "                   token.is_punct, token.is_alpha, token.is_stop,\n",
    "                   token.ent_type_, token.ent_iob_)\n",
    "            rows.append(row)\n",
    "\n",
    "    # generate HTML formatted table for display in Jupyter\n",
    "    headers = ['text', 'lemma_', 'pos_', 'tag_', 'dep_', \n",
    "               'is_punct', 'is_alpha', 'is_stop', 'ent_type', 'ent_iob'] \n",
    "    display(HTML(tabulate(rows, headers=headers, tablefmt='html')))\n",
    "    "
   ]
  },
  {
   "cell_type": "code",
   "execution_count": null,
   "metadata": {
    "ExecuteTime": {
     "end_time": "2019-10-19T11:19:38.648478Z",
     "start_time": "2019-10-19T11:19:38.641414Z"
    }
   },
   "outputs": [],
   "source": [
    "from lemmatizer_de import LOOKUP as my_LOOKUP\n",
    "\n",
    "nlp.vocab.morphology.lemmatizer.lookup_table = my_LOOKUP\n",
    "\n",
    "\n"
   ]
  },
  {
   "cell_type": "code",
   "execution_count": null,
   "metadata": {
    "ExecuteTime": {
     "end_time": "2019-10-20T18:39:22.293823Z",
     "start_time": "2019-10-20T18:39:22.277842Z"
    }
   },
   "outputs": [],
   "source": [
    "LOOKUP['Baum']"
   ]
  },
  {
   "cell_type": "code",
   "execution_count": null,
   "metadata": {
    "ExecuteTime": {
     "end_time": "2019-10-19T11:31:50.165208Z",
     "start_time": "2019-10-19T11:31:50.139200Z"
    }
   },
   "outputs": [],
   "source": [
    "def print_nlp(doc):\n",
    "    print(\" \".join([f\"{t}/{t.lemma_}/{t.pos_}\" for t in doc if not t.is_punct]))\n",
    "\n",
    "texts = \"\"\"Dieser Gärtner wohnt im Haus.\n",
    "\"\"\"\n",
    "\n",
    "for text in texts.split(\"\\n\"):\n",
    "    doc = nlp(text)\n",
    "    print_nlp(doc)"
   ]
  },
  {
   "cell_type": "markdown",
   "metadata": {
    "ExecuteTime": {
     "end_time": "2019-10-19T11:31:47.743018Z",
     "start_time": "2019-10-19T11:31:47.560916Z"
    }
   },
   "source": [
    "# SpaCy 2.2"
   ]
  },
  {
   "cell_type": "code",
   "execution_count": 2,
   "metadata": {
    "ExecuteTime": {
     "end_time": "2019-10-22T09:57:36.822399Z",
     "start_time": "2019-10-22T09:57:36.809396Z"
    }
   },
   "outputs": [
    {
     "name": "stdout",
     "output_type": "stream",
     "text": [
      "C:\\Users\\Jens\\Documents\\Development\\github\\jsalbr\\spaCy\n",
      "C:\\Users\\Jens\\Documents\\Development\\github\\jsalbr\\spacy-lemmatizer-de-fix\n",
      "C:\\Users\\Jens\\Anaconda3\\python37.zip\n",
      "C:\\Users\\Jens\\Anaconda3\\DLLs\n",
      "C:\\Users\\Jens\\Anaconda3\\lib\n",
      "C:\\Users\\Jens\\Anaconda3\n",
      "\n",
      "C:\\Users\\Jens\\AppData\\Roaming\\Python\\Python37\\site-packages\n",
      "C:\\Users\\Jens\\Anaconda3\\lib\\site-packages\n",
      "C:\\Users\\Jens\\Anaconda3\\lib\\site-packages\\pandas_profiling-2.3.0-py3.7.egg\n",
      "C:\\Users\\Jens\\Anaconda3\\lib\\site-packages\\confuse-1.0.0-py3.7.egg\n",
      "C:\\Users\\Jens\\Anaconda3\\lib\\site-packages\\phik-0.9.8-py3.7.egg\n",
      "C:\\Users\\Jens\\Anaconda3\\lib\\site-packages\\htmlmin-0.1.12-py3.7.egg\n",
      "C:\\Users\\Jens\\Anaconda3\\lib\\site-packages\\missingno-0.4.2-py3.7.egg\n",
      "C:\\Users\\Jens\\Anaconda3\\lib\\site-packages\\pytest_pylint-0.14.1-py3.7.egg\n",
      "C:\\Users\\Jens\\Anaconda3\\lib\\site-packages\\defusedxml-0.6.0-py3.7.egg\n",
      "C:\\Users\\Jens\\Anaconda3\\lib\\site-packages\\typed_ast-1.4.0-py3.7-win-amd64.egg\n",
      "C:\\Users\\Jens\\Anaconda3\\lib\\site-packages\\win32\n",
      "C:\\Users\\Jens\\Anaconda3\\lib\\site-packages\\win32\\lib\n",
      "C:\\Users\\Jens\\Anaconda3\\lib\\site-packages\\Pythonwin\n",
      "C:\\Users\\Jens\\Anaconda3\\lib\\site-packages\\IPython\\extensions\n",
      "C:\\Users\\Jens\\.ipython\n"
     ]
    }
   ],
   "source": [
    "import sys\n",
    "\n",
    "sys.path.insert(0, r'C:\\Users\\Jens\\Documents\\Development\\github\\jsalbr\\spaCy')\n",
    "\n",
    "for p in sys.path:\n",
    "    print(p)"
   ]
  },
  {
   "cell_type": "code",
   "execution_count": 3,
   "metadata": {
    "ExecuteTime": {
     "end_time": "2019-10-22T09:57:39.642637Z",
     "start_time": "2019-10-22T09:57:39.183347Z"
    }
   },
   "outputs": [
    {
     "ename": "ModuleNotFoundError",
     "evalue": "No module named 'spacy.symbols'",
     "output_type": "error",
     "traceback": [
      "\u001b[1;31m---------------------------------------------------------------------------\u001b[0m",
      "\u001b[1;31mModuleNotFoundError\u001b[0m                       Traceback (most recent call last)",
      "\u001b[1;32m<ipython-input-3-76a01d9c502b>\u001b[0m in \u001b[0;36m<module>\u001b[1;34m\u001b[0m\n\u001b[1;32m----> 1\u001b[1;33m \u001b[1;32mimport\u001b[0m \u001b[0mspacy\u001b[0m\u001b[1;33m\u001b[0m\u001b[1;33m\u001b[0m\u001b[0m\n\u001b[0m",
      "\u001b[1;32m~\\Documents\\Development\\github\\jsalbr\\spaCy\\spacy\\__init__.py\u001b[0m in \u001b[0;36m<module>\u001b[1;34m\u001b[0m\n\u001b[0;32m     10\u001b[0m \u001b[1;32mfrom\u001b[0m \u001b[0mthinc\u001b[0m\u001b[1;33m.\u001b[0m\u001b[0mneural\u001b[0m\u001b[1;33m.\u001b[0m\u001b[0mutil\u001b[0m \u001b[1;32mimport\u001b[0m \u001b[0mprefer_gpu\u001b[0m\u001b[1;33m,\u001b[0m \u001b[0mrequire_gpu\u001b[0m\u001b[1;33m\u001b[0m\u001b[1;33m\u001b[0m\u001b[0m\n\u001b[0;32m     11\u001b[0m \u001b[1;33m\u001b[0m\u001b[0m\n\u001b[1;32m---> 12\u001b[1;33m \u001b[1;32mfrom\u001b[0m \u001b[1;33m.\u001b[0m\u001b[0mcli\u001b[0m\u001b[1;33m.\u001b[0m\u001b[0minfo\u001b[0m \u001b[1;32mimport\u001b[0m \u001b[0minfo\u001b[0m \u001b[1;32mas\u001b[0m \u001b[0mcli_info\u001b[0m\u001b[1;33m\u001b[0m\u001b[1;33m\u001b[0m\u001b[0m\n\u001b[0m\u001b[0;32m     13\u001b[0m \u001b[1;32mfrom\u001b[0m \u001b[1;33m.\u001b[0m\u001b[0mglossary\u001b[0m \u001b[1;32mimport\u001b[0m \u001b[0mexplain\u001b[0m\u001b[1;33m\u001b[0m\u001b[1;33m\u001b[0m\u001b[0m\n\u001b[0;32m     14\u001b[0m \u001b[1;32mfrom\u001b[0m \u001b[1;33m.\u001b[0m\u001b[0mabout\u001b[0m \u001b[1;32mimport\u001b[0m \u001b[0m__version__\u001b[0m\u001b[1;33m\u001b[0m\u001b[1;33m\u001b[0m\u001b[0m\n",
      "\u001b[1;32m~\\Documents\\Development\\github\\jsalbr\\spaCy\\spacy\\cli\\__init__.py\u001b[0m in \u001b[0;36m<module>\u001b[1;34m\u001b[0m\n\u001b[1;32m----> 1\u001b[1;33m \u001b[1;32mfrom\u001b[0m \u001b[1;33m.\u001b[0m\u001b[0mdownload\u001b[0m \u001b[1;32mimport\u001b[0m \u001b[0mdownload\u001b[0m  \u001b[1;31m# noqa: F401\u001b[0m\u001b[1;33m\u001b[0m\u001b[1;33m\u001b[0m\u001b[0m\n\u001b[0m\u001b[0;32m      2\u001b[0m \u001b[1;32mfrom\u001b[0m \u001b[1;33m.\u001b[0m\u001b[0minfo\u001b[0m \u001b[1;32mimport\u001b[0m \u001b[0minfo\u001b[0m  \u001b[1;31m# noqa: F401\u001b[0m\u001b[1;33m\u001b[0m\u001b[1;33m\u001b[0m\u001b[0m\n\u001b[0;32m      3\u001b[0m \u001b[1;32mfrom\u001b[0m \u001b[1;33m.\u001b[0m\u001b[0mlink\u001b[0m \u001b[1;32mimport\u001b[0m \u001b[0mlink\u001b[0m  \u001b[1;31m# noqa: F401\u001b[0m\u001b[1;33m\u001b[0m\u001b[1;33m\u001b[0m\u001b[0m\n\u001b[0;32m      4\u001b[0m \u001b[1;32mfrom\u001b[0m \u001b[1;33m.\u001b[0m\u001b[0mpackage\u001b[0m \u001b[1;32mimport\u001b[0m \u001b[0mpackage\u001b[0m  \u001b[1;31m# noqa: F401\u001b[0m\u001b[1;33m\u001b[0m\u001b[1;33m\u001b[0m\u001b[0m\n\u001b[0;32m      5\u001b[0m \u001b[1;32mfrom\u001b[0m \u001b[1;33m.\u001b[0m\u001b[0mprofile\u001b[0m \u001b[1;32mimport\u001b[0m \u001b[0mprofile\u001b[0m  \u001b[1;31m# noqa: F401\u001b[0m\u001b[1;33m\u001b[0m\u001b[1;33m\u001b[0m\u001b[0m\n",
      "\u001b[1;32m~\\Documents\\Development\\github\\jsalbr\\spaCy\\spacy\\cli\\download.py\u001b[0m in \u001b[0;36m<module>\u001b[1;34m\u001b[0m\n\u001b[0;32m      9\u001b[0m \u001b[1;32mfrom\u001b[0m \u001b[0mwasabi\u001b[0m \u001b[1;32mimport\u001b[0m \u001b[0mPrinter\u001b[0m\u001b[1;33m\u001b[0m\u001b[1;33m\u001b[0m\u001b[0m\n\u001b[0;32m     10\u001b[0m \u001b[1;33m\u001b[0m\u001b[0m\n\u001b[1;32m---> 11\u001b[1;33m \u001b[1;32mfrom\u001b[0m \u001b[1;33m.\u001b[0m\u001b[0mlink\u001b[0m \u001b[1;32mimport\u001b[0m \u001b[0mlink\u001b[0m\u001b[1;33m\u001b[0m\u001b[1;33m\u001b[0m\u001b[0m\n\u001b[0m\u001b[0;32m     12\u001b[0m \u001b[1;32mfrom\u001b[0m \u001b[1;33m.\u001b[0m\u001b[1;33m.\u001b[0m\u001b[0mutil\u001b[0m \u001b[1;32mimport\u001b[0m \u001b[0mget_package_path\u001b[0m\u001b[1;33m\u001b[0m\u001b[1;33m\u001b[0m\u001b[0m\n\u001b[0;32m     13\u001b[0m \u001b[1;32mfrom\u001b[0m \u001b[1;33m.\u001b[0m\u001b[1;33m.\u001b[0m \u001b[1;32mimport\u001b[0m \u001b[0mabout\u001b[0m\u001b[1;33m\u001b[0m\u001b[1;33m\u001b[0m\u001b[0m\n",
      "\u001b[1;32m~\\Documents\\Development\\github\\jsalbr\\spaCy\\spacy\\cli\\link.py\u001b[0m in \u001b[0;36m<module>\u001b[1;34m\u001b[0m\n\u001b[0;32m      7\u001b[0m \u001b[1;33m\u001b[0m\u001b[0m\n\u001b[0;32m      8\u001b[0m \u001b[1;32mfrom\u001b[0m \u001b[1;33m.\u001b[0m\u001b[1;33m.\u001b[0m\u001b[0mcompat\u001b[0m \u001b[1;32mimport\u001b[0m \u001b[0msymlink_to\u001b[0m\u001b[1;33m,\u001b[0m \u001b[0mpath2str\u001b[0m\u001b[1;33m\u001b[0m\u001b[1;33m\u001b[0m\u001b[0m\n\u001b[1;32m----> 9\u001b[1;33m \u001b[1;32mfrom\u001b[0m \u001b[1;33m.\u001b[0m\u001b[1;33m.\u001b[0m \u001b[1;32mimport\u001b[0m \u001b[0mutil\u001b[0m\u001b[1;33m\u001b[0m\u001b[1;33m\u001b[0m\u001b[0m\n\u001b[0m\u001b[0;32m     10\u001b[0m \u001b[1;33m\u001b[0m\u001b[0m\n\u001b[0;32m     11\u001b[0m \u001b[1;33m\u001b[0m\u001b[0m\n",
      "\u001b[1;32m~\\Documents\\Development\\github\\jsalbr\\spaCy\\spacy\\util.py\u001b[0m in \u001b[0;36m<module>\u001b[1;34m\u001b[0m\n\u001b[0;32m     26\u001b[0m     \u001b[0mcupy\u001b[0m \u001b[1;33m=\u001b[0m \u001b[1;32mNone\u001b[0m\u001b[1;33m\u001b[0m\u001b[1;33m\u001b[0m\u001b[0m\n\u001b[0;32m     27\u001b[0m \u001b[1;33m\u001b[0m\u001b[0m\n\u001b[1;32m---> 28\u001b[1;33m \u001b[1;32mfrom\u001b[0m \u001b[1;33m.\u001b[0m\u001b[0msymbols\u001b[0m \u001b[1;32mimport\u001b[0m \u001b[0mORTH\u001b[0m\u001b[1;33m\u001b[0m\u001b[1;33m\u001b[0m\u001b[0m\n\u001b[0m\u001b[0;32m     29\u001b[0m \u001b[1;32mfrom\u001b[0m \u001b[1;33m.\u001b[0m\u001b[0mcompat\u001b[0m \u001b[1;32mimport\u001b[0m \u001b[0mcupy\u001b[0m\u001b[1;33m,\u001b[0m \u001b[0mCudaStream\u001b[0m\u001b[1;33m,\u001b[0m \u001b[0mpath2str\u001b[0m\u001b[1;33m,\u001b[0m \u001b[0mbasestring_\u001b[0m\u001b[1;33m,\u001b[0m \u001b[0municode_\u001b[0m\u001b[1;33m\u001b[0m\u001b[1;33m\u001b[0m\u001b[0m\n\u001b[0;32m     30\u001b[0m \u001b[1;32mfrom\u001b[0m \u001b[1;33m.\u001b[0m\u001b[0mcompat\u001b[0m \u001b[1;32mimport\u001b[0m \u001b[0mimport_file\u001b[0m\u001b[1;33m,\u001b[0m \u001b[0mimportlib_metadata\u001b[0m\u001b[1;33m\u001b[0m\u001b[1;33m\u001b[0m\u001b[0m\n",
      "\u001b[1;31mModuleNotFoundError\u001b[0m: No module named 'spacy.symbols'"
     ]
    }
   ],
   "source": [
    "import spacy"
   ]
  },
  {
   "cell_type": "code",
   "execution_count": null,
   "metadata": {
    "ExecuteTime": {
     "end_time": "2019-10-22T09:57:00.517877Z",
     "start_time": "2019-10-22T09:57:00.503879Z"
    }
   },
   "outputs": [],
   "source": [
    "spacy.__file__"
   ]
  }
 ],
 "metadata": {
  "kernelspec": {
   "display_name": "Python 3",
   "language": "python",
   "name": "python3"
  },
  "language_info": {
   "codemirror_mode": {
    "name": "ipython",
    "version": 3
   },
   "file_extension": ".py",
   "mimetype": "text/x-python",
   "name": "python",
   "nbconvert_exporter": "python",
   "pygments_lexer": "ipython3",
   "version": "3.7.3"
  },
  "toc": {
   "base_numbering": 1,
   "nav_menu": {},
   "number_sections": true,
   "sideBar": true,
   "skip_h1_title": false,
   "title_cell": "Table of Contents",
   "title_sidebar": "Contents",
   "toc_cell": false,
   "toc_position": {},
   "toc_section_display": true,
   "toc_window_display": false
  }
 },
 "nbformat": 4,
 "nbformat_minor": 2
}
